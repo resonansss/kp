{
 "cells": [
  {
   "cell_type": "code",
   "execution_count": 2,
   "metadata": {},
   "outputs": [],
   "source": [
    "import sqlite3\n",
    "encoding = 'utf-8'\n",
    "txt_file = r'kpelle dic.txt'"
   ]
  },
  {
   "cell_type": "code",
   "execution_count": 3,
   "metadata": {},
   "outputs": [],
   "source": [
    "def create_kpelle_database(filename):\n",
    " \n",
    "  conn = sqlite3.connect('kpelle_dic.db')\n",
    "  cursor = conn.cursor()\n",
    "\n",
    "  cursor.execute('''\n",
    "    CREATE TABLE IF NOT EXISTS kpelle_dic (\n",
    "      Lemma TEXT PRIMARY KEY,\n",
    "      PoS TEXT,\n",
    "      DefEng TEXT\n",
    "    )\n",
    "  ''')\n",
    "\n",
    "  with open(filename, 'r', encoding=encoding) as f:\n",
    "    lines = f.readlines()\n",
    "\n",
    "  i = 0\n",
    "  while i < 6612:\n",
    "    lemma = lines[i].strip()\n",
    "    pos = lines[i + 1].strip()\n",
    "    def_eng = lines[i + 2].strip()\n",
    "\n",
    "    cursor.execute(\n",
    "        'INSERT OR IGNORE INTO kpelle_dic (Lemma, PoS, DefEng) VALUES (?, ?, ?)',\n",
    "        (lemma, pos, def_eng)\n",
    "    )\n",
    "\n",
    "    i += 3\n",
    "\n",
    "  conn.commit()\n",
    "  conn.close()"
   ]
  },
  {
   "cell_type": "code",
   "execution_count": 4,
   "metadata": {},
   "outputs": [],
   "source": [
    "if __name__ == \"__main__\":\n",
    "  create_kpelle_database(txt_file)"
   ]
  }
 ],
 "metadata": {
  "kernelspec": {
   "display_name": "Python 3",
   "language": "python",
   "name": "python3"
  },
  "language_info": {
   "codemirror_mode": {
    "name": "ipython",
    "version": 3
   },
   "file_extension": ".py",
   "mimetype": "text/x-python",
   "name": "python",
   "nbconvert_exporter": "python",
   "pygments_lexer": "ipython3",
   "version": "3.11.9"
  }
 },
 "nbformat": 4,
 "nbformat_minor": 2
}
