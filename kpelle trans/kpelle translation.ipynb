{
 "cells": [
  {
   "cell_type": "code",
   "execution_count": 5,
   "metadata": {},
   "outputs": [],
   "source": [
    "import sqlite3\n",
    "import tkinter as tk\n",
    "from tkinter import messagebox"
   ]
  },
  {
   "cell_type": "code",
   "execution_count": 6,
   "metadata": {},
   "outputs": [],
   "source": [
    "def translate():\n",
    "\n",
    "    word = entry.get()\n",
    "    language = language_var.get()\n",
    "\n",
    "    conn = sqlite3.connect('kpelle_dic.db')\n",
    "    cursor = conn.cursor()\n",
    "\n",
    "    if language == 'Kpelle':\n",
    "        cursor.execute(\n",
    "            'SELECT DefEng FROM kpelle_dic WHERE Lemma = ?', (word,)\n",
    "        )\n",
    "        translations = [row[0] for row in cursor.fetchall()]\n",
    "        if translations:\n",
    "            # chr(10) = \\n \n",
    "            result_label.config(text=f\"Translation into English:\\n{chr(10).join(translations)}\")\n",
    "        else:\n",
    "            result_label.config(text='No translation')\n",
    "\n",
    "    else:\n",
    "        cursor.execute(\n",
    "            'SELECT Lemma FROM kpelle_dic WHERE DefEng = ?', (word,)\n",
    "        )\n",
    "        translations = [row[0] for row in cursor.fetchall()]\n",
    "        if translations:\n",
    "            result_label.config(text=f\"Translation into Kpelle:\\n{chr(10).join(translations)}\")\n",
    "        else:\n",
    "            result_label.config(text='No translation')\n",
    "\n",
    "    conn.close()"
   ]
  },
  {
   "cell_type": "code",
   "execution_count": 7,
   "metadata": {},
   "outputs": [],
   "source": [
    "root = tk.Tk()\n",
    "root.title('Kpelle Translation')\n",
    "\n",
    "language_var = tk.StringVar(value='Kpelle')\n",
    "language_label = tk.Label(root, text='Language: ')\n",
    "language_label.grid(row=0, column=0, sticky='w')\n",
    "language_menu = tk.OptionMenu(root, language_var, 'Kpelle', 'English')\n",
    "language_menu.grid(row=0, column=1, sticky='w')\n",
    "\n",
    "entry_label = tk.Label(root, text='Word to translate: ')\n",
    "entry_label.grid(row=1, column=0, sticky='w')\n",
    "entry = tk.Entry(root, width=30)\n",
    "entry.grid(row=1, column=1, sticky='w')\n",
    "\n",
    "translate_button = tk.Button(root, text='Translate', command=translate)\n",
    "translate_button.grid(row=2, column=0, columnspan=2)\n",
    "\n",
    "result_label = tk.Label(root, text=\"\")\n",
    "result_label.grid(row=3, column=0, columnspan=2)"
   ]
  },
  {
   "cell_type": "code",
   "execution_count": 8,
   "metadata": {},
   "outputs": [],
   "source": [
    "root.mainloop()"
   ]
  }
 ],
 "metadata": {
  "kernelspec": {
   "display_name": "Python 3",
   "language": "python",
   "name": "python3"
  },
  "language_info": {
   "codemirror_mode": {
    "name": "ipython",
    "version": 3
   },
   "file_extension": ".py",
   "mimetype": "text/x-python",
   "name": "python",
   "nbconvert_exporter": "python",
   "pygments_lexer": "ipython3",
   "version": "3.11.9"
  }
 },
 "nbformat": 4,
 "nbformat_minor": 2
}
